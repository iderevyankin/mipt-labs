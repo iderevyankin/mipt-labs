{
 "cells": [
  {
   "cell_type": "markdown",
   "id": "1e380e5c",
   "metadata": {},
   "source": [
    "# <center>Лабораторная Работа № 5.10.1</center>\n",
    "## <center>$\\mathit{\"Электронный~парамагнитный~резонанс\"}$</center>\n",
    "###### <center>Выполнил студент группы Б03-903 Деревянкин Иван</center>"
   ]
  },
  {
   "cell_type": "markdown",
   "id": "17d19efe",
   "metadata": {},
   "source": [
    "### 1. Цель работы:\n",
    "<ul>\n",
    "  <li>Исследовать электронный парамагнитный резонанс (ЭПР) в молекуле дифенилпикрилгидразила (ДФПГ);</li>\n",
    "  <li>Определить $g$-фактор электрона;</li>\n",
    "  <li>Измерить ширину линий ЭПР;</li>\n",
    "</ul>"
   ]
  },
  {
   "cell_type": "markdown",
   "id": "becf9d0c",
   "metadata": {},
   "source": [
    "### 2. В работе используются:\n",
    "<ul>\n",
    "    <li>Источник постоянного тока GPR-30H10D;</li>\n",
    "    <li>Два вольтметра GDM-8145;</li>\n",
    "    <li>Фазовращатель;</li>\n",
    "    <li>Трансформатор ЛАТР;</li>\n",
    "    <li>Генератор ВЧ Г4-116;</li>\n",
    "    <li>Осциллограф INSTEK GDS-620;</li>\n",
    "    <li>Катушки;</li>\n",
    "    <li>Резистор;</li>\n",
    "<ul>"
   ]
  },
  {
   "cell_type": "markdown",
   "id": "e6e6ce55",
   "metadata": {},
   "source": [
    "### 3. Теория\n",
    "\n",
    "В методе ЭПР изучается резонансное поглощение переменного электромагнитного поля в образце в зависимости от контролируемых экспериментатором внешних условий: постоянного магнитного поля, частоты колебаний переменного поля, температуры и так далее. \\\n",
    "Простейшей моделью для рассмотрения ЭПР является система из невзаимодействующих\n",
    "частиц со спином $S = 1/2$, помещённая во внешнее магнитное поле. В отсутствие\n",
    "магнитного поля энергии состояний с проекцией спина $S_Z = \\pm 1/2$ совпадают. Из-за эффекта Зеемана энергии состояний с различными проекциями спина начинают различаться. Если направить на нашу систему поток излучения с энергией, равной разнице энергий этих состояний \n",
    "\\begin{equation}\\label{2}\n",
    "h \\nu = g\\mu_B B,\n",
    "\\end{equation} \n",
    "то станут возможны индуцированные переходы между состояниями. Эти переходы происходят с поглощением или испусканием фотона в зависимости от того, в каком из состояний была система до взаимодействия с излучением. В отличие от оптических переходов между электронными уровнями энергии в атоме, типичная частота переменного поля в ЭПР эксперименте составляет порядка 10 ГГц (а в нашем лабораторном эксперименте около 100 МГц), что соответствует энергии фотона менее 1К. Поэтому, за исключением очень низких температур, заселённость обоих спиновых подуровней с $S_Z = \\pm 1/2$ близка. В состоянии теплового равновесия нижний энергетический уровень более заселён, поэтому наблюдается поглощение электромагнитного излучения. \\\\\n",
    "В «классическом» подходе рассматривается прецессия магнитного момента во внешнем поле при отклонении магнитного момента от равновесия. Классический магнитный диполь стремится выровняться вдоль силовых линий магнитного поля, при отклонении от равновесия возникает возвращающий механический момент $\\mathbf{T} = \\mathbf{M}\\times \\mathbf{B}$. Так как магнитный и механический момент иона связаны друг с другом гиромагнитным отношением $\\gamma$ как $\\mathbf{M}=\\gamma \\mathbf{J}$ , где $\\mathbf{J}$ - это полный момент импульса, то с учётом уравнения динамики\n",
    "$\\frac{d}{dt}\\mathbf{J} = \\mathbf{T}$, получим уравнение прецессии магнитного момента\n",
    "$\\dfrac{d}{dt}\\mathbf{M} = \\gamma \\mathbf{M} \\times \\mathbf{B}$.\n",
    "Аналогично\n",
    "с известной задачей о прецессии гироскопа можно заметить, что при отклонении магнитного момента от направления магнитного поля возникает незатухающая прецессия вокруг направления поля с угловой скоростью $\\boldsymbol{\\Omega} = -\\gamma \\mathbf{B}$, частота этой прецессии $\\Omega_L = \\gamma B$ называется ларморовской. При совпадении частоты переменного поля, перпендикулярного основному, с ларморовской частотой возможно возникновение резонансного поглощения."
   ]
  },
  {
   "cell_type": "markdown",
   "id": "9566d253",
   "metadata": {},
   "source": [
    "### 4. Экспериментальная установка\n",
    "\n",
    "Схема установки показана на рис. 1. Переменное электромагнитное поле на частоте ~100 МГц создаётся высокочастотным генератором, постоянное магнитное поле создаётся электромагнитом. Для увеличения чувствительности эксперимента образец помещают в катушку индуктивности колебательного контура. Колебательный контур состоит из катушки индуктивности и плоского конденсатора. Генератор высокой частоты не соединён с контуром непосредственно: для возбуждения колебаний в контуре служит электродинамическая связь в виде антенны, соединённой с выходом генератора. Излучаемое антенной электромагнитное поле возбуждает колебания в контуре. Для определения амплитуды этих вынужденных колебаний рядом с\n",
    "катушкой индуктивности контура расположен виток приёмной катушки детектора. Колебания магнитного поля в катушке индуктивности наводят ЭДС индукции в этом витке. Детектором является высокочастотный диод. В цепь детектора подключён осциллограф.Для создания магнитного поля используется электромагнит, состоящий из пары разнесённых катушек. Ток через электромагнит контролируется по падению напряжения на резисторе,включённом в цепь питания катушек. Дополнительно к основным катушкам имеется пара\n",
    "модуляционных катушек, в которые могут создавать переменное поле малой амплитуды. Для\n",
    "создания переменного поля к катушкам прикладывается напряжение с трансформатора ЛАТР. Калибровка электромагнита осуществляется по измерению наводимой\n",
    "ЭДС индукции в пробной катушке известной геометрии при подаче переменного тока в\n",
    "соответствующие катушки электромагнита.\n",
    "\n",
    "<img src=\"Установка.png\" alt=\"Рис.1. Схема установки\">\n",
    "\n",
    "#### <center>Рис. 1: Схема установки</center>"
   ]
  },
  {
   "cell_type": "markdown",
   "id": "d92d45d7",
   "metadata": {},
   "source": [
    "### 5. Ход работы\n",
    "\n",
    "#### 5.1. Настройка ВЧ генератора\n",
    "\n",
    "Необходимо настроить генератор на резонансную частоту колебательного контура, определить значение частоты, определить добротность контура.\n",
    "\n",
    "При настройке получаем:\\\n",
    "$f_1$ = $f_{+\\frac{1}{2}}$ \\\n",
    "$f_2$ = $f_{-\\frac{1}{2}}$"
   ]
  },
  {
   "cell_type": "code",
   "execution_count": 1,
   "id": "0293b985",
   "metadata": {},
   "outputs": [
    {
     "data": {
      "text/html": [
       "<div>\n",
       "<style scoped>\n",
       "    .dataframe tbody tr th:only-of-type {\n",
       "        vertical-align: middle;\n",
       "    }\n",
       "\n",
       "    .dataframe tbody tr th {\n",
       "        vertical-align: top;\n",
       "    }\n",
       "\n",
       "    .dataframe thead th {\n",
       "        text-align: right;\n",
       "    }\n",
       "</style>\n",
       "<table border=\"1\" class=\"dataframe\">\n",
       "  <thead>\n",
       "    <tr style=\"text-align: right;\">\n",
       "      <th></th>\n",
       "      <th>$f_0$, МГц</th>\n",
       "      <th>$f_1$, МГц</th>\n",
       "      <th>$f_2$, МГц</th>\n",
       "    </tr>\n",
       "  </thead>\n",
       "  <tbody>\n",
       "    <tr>\n",
       "      <th>0</th>\n",
       "      <td>126.8</td>\n",
       "      <td>127.1</td>\n",
       "      <td>126.2</td>\n",
       "    </tr>\n",
       "  </tbody>\n",
       "</table>\n",
       "</div>"
      ],
      "text/plain": [
       "   $f_0$, МГц  $f_1$, МГц  $f_2$, МГц\n",
       "0       126.8       127.1       126.2"
      ]
     },
     "execution_count": 1,
     "metadata": {},
     "output_type": "execute_result"
    }
   ],
   "source": [
    "import pandas as pd\n",
    "\n",
    "freq = [[126.8, 127.1, 126.2]]\n",
    "\n",
    "pd.DataFrame(freq, \n",
    "             columns=[\"$f_0$, МГц\", \"$f_1$, МГц\", \"$f_2$, МГц\"])"
   ]
  },
  {
   "cell_type": "markdown",
   "id": "1959f07a",
   "metadata": {},
   "source": [
    "Погрешность для всех частот - цена деления шкалы $\\sigma_f = 0.2$МГц.\n",
    "\n",
    "Определил значение добротности колебательного контура по формуле:\n",
    "\n",
    "$$\n",
    "Q_{0}=\\frac{f_{0}}{f_{+\\frac{1}{2}}-f_{-\\frac{1}{2}}} = 120 \\pm 20\n",
    "$$\n",
    "\n",
    "где погрешность посчитана по формуле:\n",
    "\n",
    "$$\n",
    "\\sigma_{Q}=\\sigma_{f} \\sqrt{\\left(\\frac{\\partial Q}{\\partial f_{0}}\\right)^{2}+\\left(\\frac{\\partial Q}{\\partial f_{+\\frac{1}{2}}}\\right)^{2}+\\left(\\frac{\\partial Q}{\\partial f_{-\\frac{1}{2}}}\\right)^{2}}\n",
    "$$"
   ]
  },
  {
   "cell_type": "markdown",
   "id": "3c6e5ab7",
   "metadata": {},
   "source": [
    "#### 5.2. Точная настройка резонансного поля и определение ширины линии\n",
    "\n",
    "Необходимо добиться точной настройки поля для наблюдения сигнала ЭПР, зафиксировать значение постоянного тока через основные катушки в условиях резонансного поглощения, определить ширину линии ЭПР.\n",
    "\n",
    "Для более точной настройки и определения ширины линии резонансного поглощения удобно подать на Х-канал осциллографа напряжение, прикладываемое к модуляционным катушкам и наблюдать сигнал в XY-режиме. Фактически при этом на экране наблюдается зависимость поглощения в образце от от приложенного переменного поля.\n",
    "\n",
    "Для определения ширины ЭПР определил по экрану осциллографа полный размах модулирующего поля $A_{\\text{полн}} = 8.2 \\pm 0.2$ дел, и полную ширину кривой резонансного поглощения на полувысоте $A_{1/2} = 1.6 \\pm 0.2$ дел (погрешность это размер минимального деления осциллографа). Не изменяя настроек, возьмем пробную катушку и внесем ее внутрь соленоида максимально близко к образцу. Переменное поле модуляционных катушек наводит в пробной катушке ЭДС, по которой можно определить величину поля. $\\mathcal{E} = 0.97 \\pm 0.04$ мВ.\n",
    "\n",
    "Параметры катушки: $N = 45$, $d = 15.2 \\pm 0.1$. \n",
    "\n",
    "\n",
    "Вычислим амплитуду модулирующего сигнала по формуле:\n",
    "\n",
    "$$\n",
    "B_{\\text {мод }}=\\frac{2 \\sqrt{2} \\mathcal{E}}{\\pi^{2} d^{2} N_{\\text {проб } }  \\nu} = 0.52 \\pm 0.03 \\text{ мТл}\n",
    "$$\n",
    "\n",
    "Погрешность: $\\sigma_{B_{\\text {мод }}}=\\sqrt{\\left(\\frac{\\partial B_{\\text {мод }}}{\\partial \\mathcal{E}}\\right)^{2} \\sigma_{\\mathcal{E}}^{2}+\\left(\\frac{\\partial B_{\\text {мод }}}{\\partial d_{\\text { }}}\\right)^{2} \\sigma_{d_{\\text { } }^{2}}}$\n",
    "\n",
    "Вычислим полуширину на высоте линии резонансного поглощения:\n",
    "\n",
    "$$\n",
    "\\Delta B=\\frac{A_{1 / 2}}{A_{\\text {полн }}} B_{\\text {мод }} = 0.116 \\pm 0.012 \\text{ мТл.}\n",
    "$$\n",
    "\n",
    "Погрешность: $\\sigma_{\\Delta B}=\\sqrt{\\left(\\frac{\\partial \\Delta B}{\\partial A_{\\text {полн }}}\\right)^{2} \\sigma_{A_{\\text {полн }}}^{2}+\\left(\\frac{\\partial \\Delta B}{\\partial A_{1 / 2}}\\right)^{2} \\sigma_{A_{1 / 2}}^{2}+\\left(\\frac{\\partial \\Delta B}{\\partial B_{\\text {мод }}}\\right)^{2} \\sigma_{B_{\\text {мод }}}^{2}}$"
   ]
  },
  {
   "cell_type": "markdown",
   "id": "c2494f8e",
   "metadata": {},
   "source": [
    "#### 5.3. Калибровка поля электромагнита и определение g - фактора\n",
    "\n",
    "Необходимо определить связь между падением напряжения на резисторе в цепи основных катушек и магнитным полем в центре магнита."
   ]
  },
  {
   "cell_type": "markdown",
   "id": "e74876d8",
   "metadata": {},
   "source": [
    "##### Данные для калибровки:"
   ]
  },
  {
   "cell_type": "code",
   "execution_count": 3,
   "id": "7706695f",
   "metadata": {},
   "outputs": [
    {
     "ename": "NameError",
     "evalue": "name 'pd' is not defined",
     "output_type": "error",
     "traceback": [
      "\u001b[1;31m---------------------------------------------------------------------------\u001b[0m",
      "\u001b[1;31mNameError\u001b[0m                                 Traceback (most recent call last)",
      "\u001b[1;32m<ipython-input-3-ade29d1a8118>\u001b[0m in \u001b[0;36m<module>\u001b[1;34m\u001b[0m\n\u001b[0;32m      6\u001b[0m \u001b[0mtabledata\u001b[0m \u001b[1;33m=\u001b[0m \u001b[0mnp\u001b[0m\u001b[1;33m.\u001b[0m\u001b[0marray\u001b[0m\u001b[1;33m(\u001b[0m\u001b[0mtd\u001b[0m\u001b[1;33m)\u001b[0m\u001b[1;33m\u001b[0m\u001b[1;33m\u001b[0m\u001b[0m\n\u001b[0;32m      7\u001b[0m \u001b[1;33m\u001b[0m\u001b[0m\n\u001b[1;32m----> 8\u001b[1;33m \u001b[0mpd\u001b[0m\u001b[1;33m.\u001b[0m\u001b[0mDataFrame\u001b[0m\u001b[1;33m(\u001b[0m\u001b[0mtabledata\u001b[0m\u001b[1;33m.\u001b[0m\u001b[0mT\u001b[0m\u001b[1;33m,\u001b[0m \u001b[0mcolumns\u001b[0m\u001b[1;33m=\u001b[0m\u001b[1;33m[\u001b[0m\u001b[1;34m\"$V_R$, mV\"\u001b[0m\u001b[1;33m,\u001b[0m \u001b[1;34m\"V, mV\"\u001b[0m\u001b[1;33m]\u001b[0m\u001b[1;33m)\u001b[0m\u001b[1;33m\u001b[0m\u001b[1;33m\u001b[0m\u001b[0m\n\u001b[0m",
      "\u001b[1;31mNameError\u001b[0m: name 'pd' is not defined"
     ]
    }
   ],
   "source": [
    "import numpy as np\n",
    "\n",
    "Vr = [3.39, 5.22, 7.01, 8.75, 10.41]\n",
    "V = [0.43, 0.68, 0.91, 1.15, 1.37]\n",
    "td = (V, Vr)\n",
    "tabledata = np.array(td)\n",
    "\n",
    "pd.DataFrame(tabledata.T, columns=[\"$V_R$, mV\", \"V, mV\"])"
   ]
  },
  {
   "cell_type": "markdown",
   "id": "cfded5ae",
   "metadata": {},
   "source": [
    "##### Калибровочный график:"
   ]
  },
  {
   "cell_type": "code",
   "execution_count": 2,
   "id": "fe4ae5c1",
   "metadata": {},
   "outputs": [
    {
     "data": {
      "image/png": "[encoded data removed]",
      "text/plain": [
       "<Figure size 720x504 with 1 Axes>"
      ]
     },
     "metadata": {
      "needs_background": "light"
     },
     "output_type": "display_data"
    },
    {
     "data": {
      "text/plain": [
       "array([ 0.14308494, -0.10475519])"
      ]
     },
     "execution_count": 2,
     "metadata": {},
     "output_type": "execute_result"
    }
   ],
   "source": [
    "from matplotlib import pyplot as plt\n",
    "\n",
    "x = Vr\n",
    "y = V\n",
    "\n",
    "sigma_x = [0.01] * 5\n",
    "sigma_y = [0.01] * 5\n",
    "\n",
    "fig = plt.figure(figsize = (10, 7))\n",
    "ax = fig.add_subplot(111)\n",
    "\n",
    "ax.set_title(r'График измерений для калибровки', fontsize = 18)\n",
    "ax.set_xlabel(r'$V_r$, mV', fontsize = 18)\n",
    "ax.set_ylabel(r'V', fontsize = 18)\n",
    "ax.errorbar(x, y, sigma_y, sigma_x, marker = 'X', linestyle = 'None', color = 'red', label = 'Error')\n",
    "p = np.polyfit(x, y, 1)\n",
    "yp = np.polyval(p, x)\n",
    "ax.plot(x, yp, marker = 'None', linestyle = '--', color = 'black', label = 'y = 0.134*x - 0.022')\n",
    "plt.legend(loc = 'best', fontsize = 18)\n",
    "ax.minorticks_on()\n",
    "ax.grid(which='major', color = 'orange', linewidth = 1)\n",
    "ax.grid(which='minor', color = 'orange', linestyle = ':')\n",
    "\n",
    "plt.show()\n",
    "\n",
    "p"
   ]
  },
  {
   "cell_type": "markdown",
   "id": "b1cfada7",
   "metadata": {},
   "source": [
    "График построен при помощи языка программирования Python.\n",
    "\n",
    "Уравнение прямой: $(0.134 \\pm 0.009)x - (0.022 \\pm 0.001)$\n",
    "\n",
    "$$k = 0,134 \\pm 0.009$$\n",
    "\n",
    "Погрешность посчитана согласно методу наименьших квадратов:\n",
    "\n",
    "$$\n",
    "\\sigma_{k}=\\frac{1}{\\sqrt{n}} \\sqrt{\\frac{\\left\\langle V_{\\text { }}^{2}\\right\\rangle}{\\left\\langle V_{R}^{2}\\right\\rangle}-k^{2}}\n",
    "$$\n",
    "\n",
    "Вычислим значение индукции основного магнитного поля $B_0$ по формуле:\n",
    "\n",
    "$$\n",
    "B_{0}=\\frac{4 k U}{\\pi \\omega d_{\\text { }}^{2} N_{\\text {проб }}} = 5.09 \\pm 0.43 \\text{ мТл}\n",
    "$$\n",
    "\\\n",
    "Погрешность:     $\\sigma_{B_{0}}=\\sqrt{\\left(\\frac{\\partial B_{0}}{\\partial k}\\right)^{2} \\sigma_{k}^{2}+\\left(\\frac{\\partial B_{0}}{\\partial U_{R}}\\right)^{2} \\sigma_{U_{R}}^{2}+\\left(\\frac{\\partial B_{0}}{\\partial d_{\\text { }}}\\right)^{2} \\sigma_{d_{\\text { }}^{2}}}$\\\\\n",
    "\n",
    "\n",
    "Теперь можем рассчитать g-фактор электрона по формуле:\n",
    "\n",
    "$$\n",
    "g=\\frac{h f_{0}}{\\mu_{B} B_{0}} = 1.95 \\pm 0.12 \n",
    "$$\n",
    "\n",
    "Погрешность:     $\\sigma_{g}=\\sqrt{\\left(\\frac{\\partial g}{\\partial f_{0}}\\right)^{2} \\sigma_{f_{0}}^{2}+\\left(\\frac{\\partial g}{\\partial B_{0}}\\right)^{2} \\sigma_{B_{0}}^{2}}$\n",
    "\n",
    "Табличное значение для g-фактора электрона: $g = 2.002$. Экспериментальное значение совпадает с табличным в пределах погрешности."
   ]
  },
  {
   "cell_type": "markdown",
   "id": "8642776c",
   "metadata": {},
   "source": [
    "####  Вывод\n",
    "\n",
    "В ходе лабораторной работы исследовал парамагнитный разонанс в молекуле дифенилпикрилгидразила. Измерил ширину линий ЭПР: $\\Delta B = 0.116 \\pm 0.012 \\text{ мТл.}$ Также посторил калибровочный график зависимость ЭДС индукции в пробных катушках от напряжения на резисторе в цепи основных катушек и определил g-фактор электрона: $g = 1.95 \\pm 0.12$. Увидел, что экспериментальное значение g-фактора совпадает с табличным в пределах погрешности."
   ]
  }
 ],
 "metadata": {
  "kernelspec": {
   "display_name": "Python 3",
   "language": "python",
   "name": "python3"
  },
  "language_info": {
   "codemirror_mode": {
    "name": "ipython",
    "version": 3
   },
   "file_extension": ".py",
   "mimetype": "text/x-python",
   "name": "python",
   "nbconvert_exporter": "python",
   "pygments_lexer": "ipython3",
   "version": "3.8.8"
  }
 },
 "nbformat": 4,
 "nbformat_minor": 5
}
